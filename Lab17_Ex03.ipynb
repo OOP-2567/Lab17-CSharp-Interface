{
 "cells": [
  {
   "cell_type": "markdown",
   "metadata": {},
   "source": [
    "# Lab 17 Exercise 3"
   ]
  },
  {
   "cell_type": "markdown",
   "metadata": {},
   "source": [
    "## Call from abstract class references"
   ]
  },
  {
   "cell_type": "markdown",
   "metadata": {},
   "source": [
    "1.สร้าง console application project\n",
    "\n",
    "```cmd\n",
    "dotnet new console --name Lab17_Ex03\n",
    "```"
   ]
  },
  {
   "cell_type": "markdown",
   "metadata": {},
   "source": [
    "2.เปลี่ยน code ให้เป็นดังต่อไปนี้\n",
    "\n",
    "```csharp\n",
    "Animal [] animals = new Animal[3];\n",
    "animals[0] = new Dog();\n",
    "animals[1] = new Bird();\n",
    "animals[2] = new Fish();\n",
    "\n",
    "foreach (var animal in animals)\n",
    "{\n",
    "    animal.Move();\n",
    "}\n",
    "\n",
    "interface IMovable\n",
    "{\n",
    "    public void Move();\n",
    "}\n",
    "\n",
    "abstract class Animal : IMovable\n",
    "{\n",
    "    abstract public void Move();\n",
    "}\n",
    "class Dog : Animal\n",
    "{\n",
    "    public override void Move()\n",
    "    {\n",
    "        System.Console.WriteLine(\"Dog move by running on the ground\");\n",
    "    }\n",
    "}\n",
    "class Fish : Animal\n",
    "{\n",
    "    public override void Move()\n",
    "    {\n",
    "        System.Console.WriteLine(\"Fish move by swimming in the water\");\n",
    "    }\n",
    "}\n",
    "class Bird : Animal\n",
    "{\n",
    "    public override void Move()\n",
    "    {\n",
    "        System.Console.WriteLine(\"Bird move by flying in the air\");\n",
    "    }\n",
    "}\n",
    "\n",
    "```"
   ]
  },
  {
   "cell_type": "markdown",
   "metadata": {},
   "source": [
    "3.Build project โดยการใช้คำสั่ง\n",
    "\n",
    "```cmd\n",
    "dotnet build  Lab17_Ex03\n",
    "```\n",
    "\n",
    "ถ้ามีที่ผิดพลาดในโปรแกรม ให้แก้ไขให้ถูกต้อง"
   ]
  },
  {
   "cell_type": "markdown",
   "metadata": {},
   "source": [
    "4.บันทึกผลที่ได้จากการรันคำสั่งในข้อ 3"
   ]
  },
  {
   "cell_type": "markdown",
   "metadata": {},
   "source": [
    "C:\\Users\\asus\\Documents\\LAB17\\Lab17-CSharp-Interface>dotnet build  Lab17_Ex03             \n",
    "\n",
    "Restore complete (0.3s)\n",
    "\n",
    "  Lab17_Ex03 succeeded (1.8s) → Lab17_Ex03\\bin\\Debug\\net9.0\\Lab17_Ex03.dll\n",
    "\n",
    "Build succeeded in 2.5s"
   ]
  },
  {
   "cell_type": "markdown",
   "metadata": {},
   "source": [
    "5.Run project โดยการใช้คำสั่ง\n",
    "\n",
    "```cmd\n",
    "dotnet run --project Lab17_Ex03\n",
    "```"
   ]
  },
  {
   "cell_type": "markdown",
   "metadata": {},
   "source": [
    "6.บันทึกผลที่ได้จากการรันคำสั่งในข้อ 5"
   ]
  },
  {
   "cell_type": "markdown",
   "metadata": {},
   "source": [
    "C:\\Users\\asus\\Documents\\LAB17\\Lab17-CSharp-Interface>dotnet run --project Lab17_Ex03     \n",
    " \n",
    "Dog move by running on the ground\n",
    "\n",
    "Bird move by flying in the air\n",
    "\n",
    "Fish move by swimming in the water"
   ]
  },
  {
   "cell_type": "markdown",
   "metadata": {},
   "source": [
    "7.อธิบายสิ่งที่พบในการทดลอง"
   ]
  },
  {
   "cell_type": "markdown",
   "metadata": {},
   "source": [
    "จาากการทดลองมีการใช้งาน Polymorphism  โดยมีการสร้าง Interface ชื่อ IMovable ที่กำหนดเมธอด Move() และมี Abstract Class ชื่อ Animal ที่สืบทอด Interface นี้ จากนั้นมีการสร้างคลาสลูก 3 คลาสคือ Dog, \n",
    "\n",
    "Fish และ Bird ที่แต่ละคลาสมีการ Override เมธอด Move() เพื่อกำหนดพฤติกรรมเฉพาะของสัตว์แต่ละชนิด เมื่อทำการสร้างอาร์เรย์ของ Animal ขนาด 3 ตัวและใส่อ็อบเจ็กต์แต่ละชนิดลงไป แล้วเรียกใช้งานเมธอด Move\n",
    "\n",
    "() ผ่านการวนลูป foreach ผลลัพธ์จะแสดงข้อความที่แตกต่างกันตามชนิดของสัตว์ คือ \"Dog move by running on the ground\", \"Bird move by flying in the air\" และ \"Fish move by swimming in the water\" \n",
    "\n",
    "ใช้หลักการ Polymorphism ที่ทำให้วัตถุต่างชนิดสามารถตอบสนองต่อข้อความเดียวกันด้วยพฤติกรรมที่แตกต่างกันได้"
   ]
  }
 ],
 "metadata": {
  "kernelspec": {
   "display_name": ".NET (C#)",
   "language": "C#",
   "name": ".net-csharp"
  },
  "polyglot_notebook": {
   "kernelInfo": {
    "defaultKernelName": "csharp",
    "items": [
     {
      "aliases": [],
      "languageName": "csharp",
      "name": "csharp"
     }
    ]
   }
  }
 },
 "nbformat": 4,
 "nbformat_minor": 2
}
