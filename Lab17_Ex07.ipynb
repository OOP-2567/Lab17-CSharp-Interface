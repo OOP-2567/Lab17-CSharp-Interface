{
 "cells": [
  {
   "cell_type": "markdown",
   "metadata": {},
   "source": [
    "# Lab 17 Exercise 7"
   ]
  },
  {
   "cell_type": "markdown",
   "metadata": {},
   "source": [
    "## Interface (var variables)"
   ]
  },
  {
   "cell_type": "markdown",
   "metadata": {},
   "source": [
    "1.สร้าง console application project\n",
    "\n",
    "```cmd\n",
    "dotnet new console --name Lab17_Ex07\n",
    "```"
   ]
  },
  {
   "cell_type": "markdown",
   "metadata": {},
   "source": [
    "2.เปลี่ยน code ให้เป็นดังต่อไปนี้\n",
    "\n",
    "```csharp\n",
    "var myTV = new SonyTV();\n",
    "myTV.Wattage = 100;\n",
    "myTV.TurnOn();\n",
    "myTV.ChannelUp();\n",
    "myTV.ChannelDown();\n",
    "myTV.TurnOff();\n",
    "\n",
    "var myLamp = new DesktopLamp();\n",
    "myLamp.Wattage = 50;\n",
    "myLamp.TurnOn();\n",
    "myLamp.ChannelUp();\n",
    "myLamp.ChannelDown();\n",
    "myLamp.TurnOff();\n",
    "\n",
    "interface IRemoteControl\n",
    "{\n",
    "    public void TurnOn();\n",
    "    public void TurnOff();\n",
    "    public void ChannelUp();\n",
    "    public void ChannelDown();\n",
    "}\n",
    "abstract class PowerAppliance\n",
    "{\n",
    "    public bool PowerStatus;\n",
    "    public int Wattage;\n",
    "}\n",
    "class Television : PowerAppliance\n",
    "{\n",
    "    public int Channel { get; set; }\n",
    "}\n",
    "\n",
    "class Lamp : PowerAppliance\n",
    "{\n",
    "}\n",
    "\n",
    "\n",
    "class SonyTV : Television, IRemoteControl\n",
    "{\n",
    "    public void TurnOn() { System.Console.WriteLine(\"TV Turn on\"); PowerStatus = true; }\n",
    "    public void TurnOff() { System.Console.WriteLine(\"TV Turn off\"); PowerStatus = false; }\n",
    "    public void ChannelUp() { System.Console.WriteLine(\"TV Channel up\"); }\n",
    "    public void ChannelDown() { System.Console.WriteLine(\"TV Channel down\"); }\n",
    "}\n",
    "class DesktopLamp : Lamp, IRemoteControl\n",
    "{\n",
    "    public void TurnOn() { System.Console.WriteLine(\"Lamp Turn on\"); PowerStatus = true; }\n",
    "    public void TurnOff() { System.Console.WriteLine(\"Lamp Turn off\"); PowerStatus = false; }\n",
    "    public void ChannelUp() { System.Console.WriteLine(\"Lamp cannot change channel\"); }\n",
    "    public void ChannelDown() { System.Console.WriteLine(\"Lamp cannot change channel\"); }\n",
    "}\n",
    "```"
   ]
  },
  {
   "cell_type": "markdown",
   "metadata": {},
   "source": [
    "3.Build project โดยการใช้คำสั่ง\n",
    "\n",
    "```cmd\n",
    "dotnet build  Lab17_Ex07\n",
    "```\n",
    "\n",
    "ถ้ามีที่ผิดพลาดในโปรแกรม ให้แก้ไขให้ถูกต้อง"
   ]
  },
  {
   "cell_type": "markdown",
   "metadata": {},
   "source": [
    "4.บันทึกผลที่ได้จากการรันคำสั่งในข้อ 3"
   ]
  },
  {
   "attachments": {
    "image.png": {
     "image/png": "[encoded data removed]"
    }
   },
   "cell_type": "markdown",
   "metadata": {},
   "source": [
    "![image.png](attachment:image.png)"
   ]
  },
  {
   "cell_type": "markdown",
   "metadata": {},
   "source": [
    "5.Run project โดยการใช้คำสั่ง\n",
    "\n",
    "```cmd\n",
    "dotnet run --project Lab17_Ex07\n",
    "```"
   ]
  },
  {
   "cell_type": "markdown",
   "metadata": {},
   "source": [
    "6.บันทึกผลที่ได้จากการรันคำสั่งในข้อ 5"
   ]
  },
  {
   "attachments": {
    "image.png": {
     "image/png": "[encoded data removed]"
    }
   },
   "cell_type": "markdown",
   "metadata": {},
   "source": [
    "![image.png](attachment:image.png)"
   ]
  },
  {
   "cell_type": "markdown",
   "metadata": {},
   "source": [
    "7.อธิบายสิ่งที่พบในการทดลอง"
   ]
  },
  {
   "cell_type": "markdown",
   "metadata": {},
   "source": [
    "การแยกหน้าที่ใช้ IRemoteControl สำหรับทีวี และ ILightControl สำหรับโคมไฟ ทำให้โครงสร้างชัดเจนและยืดหยุ่น การสืบทอดSonyTV และ DesktopLamp สืบทอดพฤติกรรมจากคลาสแม่โดยไม่มีการเปลี่ยนแปลงเพิ่มเติม\n"
   ]
  }
 ],
 "metadata": {
  "kernelspec": {
   "display_name": ".NET (C#)",
   "language": "C#",
   "name": ".net-csharp"
  },
  "polyglot_notebook": {
   "kernelInfo": {
    "defaultKernelName": "csharp",
    "items": [
     {
      "aliases": [],
      "languageName": "csharp",
      "name": "csharp"
     }
    ]
   }
  }
 },
 "nbformat": 4,
 "nbformat_minor": 2
}
