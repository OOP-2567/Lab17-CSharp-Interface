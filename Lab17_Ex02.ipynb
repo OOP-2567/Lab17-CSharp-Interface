{
 "cells": [
  {
   "cell_type": "markdown",
   "metadata": {},
   "source": [
    "# Lab 17 Exercise 2"
   ]
  },
  {
   "cell_type": "markdown",
   "metadata": {},
   "source": [
    "## call from interface references"
   ]
  },
  {
   "cell_type": "markdown",
   "metadata": {},
   "source": [
    "1.สร้าง console application project\n",
    "```cmd\n",
    "dotnet new console --name Lab17_Ex02\n",
    "```"
   ]
  },
  {
   "cell_type": "markdown",
   "metadata": {},
   "source": [
    ".2.เปลี่ยน code ให้เป็นดังต่อไปนี้\n",
    "```csharp\n",
    "IMovable [] animals = new Animal[3];\n",
    "animals[0] = new Dog();\n",
    "animals[1] = new Dog();\n",
    "animals[2] = new Dog();\n",
    "\n",
    "foreach (var animal in animals)\n",
    "{\n",
    "    animal.Move();\n",
    "}\n",
    "\n",
    "interface IMovable\n",
    "{\n",
    "    public void Move();\n",
    "}\n",
    "\n",
    "abstract class Animal : IMovable\n",
    "{\n",
    "    abstract public void Move();\n",
    "}\n",
    "class Dog : Animal\n",
    "{\n",
    "    public override void Move()\n",
    "    {\n",
    "        System.Console.WriteLine(\"Dog move by running on the ground\");\n",
    "    }\n",
    "}\n",
    "```"
   ]
  },
  {
   "cell_type": "markdown",
   "metadata": {},
   "source": [
    ".3.Build project โดยการใช้คำสั่ง\n",
    "```cmd\n",
    "dotnet build  Lab17_Ex02\n",
    "```\n",
    "ถ้ามีที่ผิดพลาดในโปรแกรม ให้แก้ไขให้ถูกต้อง"
   ]
  },
  {
   "cell_type": "markdown",
   "metadata": {},
   "source": [
    "4.บันทึกผลที่ได้จากการรันคำสั่งในข้อ 3"
   ]
  },
  {
   "cell_type": "markdown",
   "metadata": {},
   "source": [
    "Restore complete (0.4s)\n",
    "  Lab17_Ex02 succeeded (0.9s) → Lab17_Ex02/bin/Debug/net9.0/Lab17_Ex02.dll\n",
    "\n",
    "Build succeeded in 1.9s"
   ]
  },
  {
   "cell_type": "markdown",
   "metadata": {},
   "source": [
    "5.Run project โดยการใช้คำสั่ง\n",
    "```cmd\n",
    "dotnet run --project Lab17_Ex02\n",
    "```"
   ]
  },
  {
   "cell_type": "markdown",
   "metadata": {},
   "source": [
    "6.บันทึกผลที่ได้จากการรันคำสั่งในข้อ 5"
   ]
  },
  {
   "cell_type": "markdown",
   "metadata": {},
   "source": [
    "Dog move by running on the ground\n",
    "\n",
    "Dog move by running on the ground\n",
    "\n",
    "Dog move by running on the ground\n"
   ]
  },
  {
   "cell_type": "markdown",
   "metadata": {},
   "source": [
    "7.อธิบายสิ่งที่พบในการทดลอง"
   ]
  },
  {
   "cell_type": "markdown",
   "metadata": {},
   "source": [
    "จากการทดลองมีการใช้งาน Interface และ Abstract Class โดยมีการสร้าง Interface ชื่อ IMovable ที่กำหนดเมธอด Move() และมี Abstract Class ชื่อ Animal ที่สืบทอด\n",
    "\n",
    "Interface นี้ แต่ยังไม่ได้เขียนรายละเอียดการทำงานของเมธอด จากนั้นมีคลาส Dog ที่สืบทอดจาก Animal และ Override เมธอด Move() เพื่อกำหนดพฤติกรรมเฉพาะของสุนัข\n",
    "\n",
    "เมื่อทำการสร้างอาร์เรย์ของ IMovable 3 ตัวและใส่อ็อบเจ็กต์ Dog ทั้งหมด แล้วเรียกใช้งานเมธอด Move() ผ่านการวนลูป foreach ผลลัพธ์จะแสดงข้อความ\n",
    "\n",
    "\"Dog move by running on the ground\" ออกมาทั้งหมด 3 ครั้ง ใช้หลักการ Polymorphism ที่ทำให้สามารถอ้างถึงคลาสลูกผ่าน Interface หรือคลาสแม่ได้"
   ]
  }
 ],
 "metadata": {
  "kernelspec": {
   "display_name": ".NET (C#)",
   "language": "C#",
   "name": ".net-csharp"
  },
  "polyglot_notebook": {
   "kernelInfo": {
    "defaultKernelName": "csharp",
    "items": [
     {
      "aliases": [],
      "languageName": "csharp",
      "name": "csharp"
     }
    ]
   }
  }
 },
 "nbformat": 4,
 "nbformat_minor": 2
}
