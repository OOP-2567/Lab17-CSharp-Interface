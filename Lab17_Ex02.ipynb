{
 "cells": [
  {
   "cell_type": "markdown",
   "metadata": {},
   "source": [
    "# Lab 17 Exercise 2"
   ]
  },
  {
   "cell_type": "markdown",
   "metadata": {},
   "source": [
    "## call from interface references"
   ]
  },
  {
   "cell_type": "markdown",
   "metadata": {},
   "source": [
    "1.สร้าง console application project\n",
    "```cmd\n",
    "dotnet new console --name Lab17_Ex02\n",
    "```"
   ]
  },
  {
   "cell_type": "markdown",
   "metadata": {},
   "source": [
    "2.เปลี่ยน code ให้เป็นดังต่อไปนี้\n",
    "```csharp\n",
    "IMovable [] animals = new Animal[3];\n",
    "animals[0] = new Dog();\n",
    "animals[1] = new Dog();\n",
    "animals[2] = new Dog();\n",
    "\n",
    "foreach (var animal in animals)\n",
    "{\n",
    "    animal.Move();\n",
    "}\n",
    "\n",
    "interface IMovable\n",
    "{\n",
    "    public void Move();\n",
    "}\n",
    "\n",
    "abstract class Animal : IMovable\n",
    "{\n",
    "    abstract public void Move();\n",
    "}\n",
    "class Dog : Animal\n",
    "{\n",
    "    public override void Move()\n",
    "    {\n",
    "        System.Console.WriteLine(\"Dog move by running on the ground\");\n",
    "    }\n",
    "}\n",
    "```"
   ]
  },
  {
   "cell_type": "markdown",
   "metadata": {},
   "source": [
    "3.Build project โดยการใช้คำสั่ง\n",
    "```cmd\n",
    "dotnet build  Lab17_Ex02\n",
    "```\n",
    "ถ้ามีที่ผิดพลาดในโปรแกรม ให้แก้ไขให้ถูกต้อง"
   ]
  },
  {
   "cell_type": "markdown",
   "metadata": {},
   "source": [
    "4.บันทึกผลที่ได้จากการรันคำสั่งในข้อ 3"
   ]
  },
  {
   "cell_type": "markdown",
   "metadata": {},
   "source": [
    "Lab17_Ex02 succeeded (0.8s) → Lab17_Ex02\\bin\\Debug\\net9.0\\Lab17_Ex02.dll\n",
    "\n",
    "Build succeeded in 2.1s"
   ]
  },
  {
   "cell_type": "markdown",
   "metadata": {},
   "source": [
    "5.Run project โดยการใช้คำสั่ง\n",
    "```cmd\n",
    "dotnet run --project Lab17_Ex02\n",
    "```"
   ]
  },
  {
   "cell_type": "markdown",
   "metadata": {},
   "source": [
    "6.บันทึกผลที่ได้จากการรันคำสั่งในข้อ 5"
   ]
  },
  {
   "cell_type": "markdown",
   "metadata": {},
   "source": [
    "Dog move by running on the ground\n",
    "\n",
    "Dog move by running on the ground\n",
    "\n",
    "Dog move by running on the ground"
   ]
  },
  {
   "cell_type": "markdown",
   "metadata": {},
   "source": [
    "7.อธิบายสิ่งที่พบในการทดลอง"
   ]
  },
  {
   "cell_type": "markdown",
   "metadata": {},
   "source": [
    "โค้ดนี้มีการสร้างอาร์เรย์ IMovable[] animals ที่ประกอบด้วยอ็อบเจ็กต์ของ Dog 3 ตัว ซึ่งทั้ง 3 ตัวจะเรียกใช้เมธอด Move() ที่กำหนดใน IMovable interface ผ่านคลาส Animal (ซึ่งเป็นคลาส abstract) ที่สืบทอดมาใน Dog คลาส โดยที่แต่ละอ็อบเจ็กต์จะเรียกใช้งานเมธอด Move() ที่ได้ทำการ override ในคลาส Dog ผลลัพธ์ที่ได้จากการทำงานของโค้ดนี้คือการแสดงข้อความ \"Dog move by running on the ground\" 3 ครั้ง เนื่องจากอ็อบเจ็กต์ทั้ง 3 ตัวเป็น Dog และเรียกใช้งานเมธอดเดียวกัน."
   ]
  }
 ],
 "metadata": {
  "kernelspec": {
   "display_name": ".NET (C#)",
   "language": "C#",
   "name": ".net-csharp"
  },
  "polyglot_notebook": {
   "kernelInfo": {
    "defaultKernelName": "csharp",
    "items": [
     {
      "aliases": [],
      "languageName": "csharp",
      "name": "csharp"
     }
    ]
   }
  }
 },
 "nbformat": 4,
 "nbformat_minor": 2
}
